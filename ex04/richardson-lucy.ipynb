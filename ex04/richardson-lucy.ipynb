{
 "cells": [
  {
   "cell_type": "code",
   "execution_count": null,
   "metadata": {
    "id": "yr9IKmHDlkEp"
   },
   "outputs": [],
   "source": [
    "import numpy as np\n",
    "import matplotlib.pyplot as plt\n"
   ]
  },
  {
   "cell_type": "code",
   "execution_count": null,
   "metadata": {
    "id": "t61ngwmcc0U-"
   },
   "outputs": [],
   "source": [
    "# *Física*\n",
    "\n",
    "\n",
    "Características:\n",
    "\n",
    "1. Luz é quantizada\n",
    "2. Pontos diferentes de um sensor recebem quantidades **discretas** e diferentes de fótons\n",
    "\n",
    "Consequências:\n",
    "\n",
    "1. Ao reduzir o shutter (mesmo para analógicas) da camera para um valor pequenos estamos mais sujeitos ao efeito dessa descontinuidade da luz\n",
    "2. Um movimento diferente provocará distorções diferentes em pixels diferentes.\n",
    "3. Quando usamos uma psf fixa e bem comportada estamos considerando que o ruído atuou da mesma maneira em todo pixel, o que não é verdade)\n",
    "\n",
    "\n",
    "## Como modelar a recepção da luz?\n",
    "\n",
    "Podemos modelar a probabilidade que $k$ fótons de uma fonte de luz com intensidade $\\lambda$ cheguem no receptor com uma distribuição de Poisson\n",
    "$$\n",
    "e^{-\\lambda}\\frac{\\lambda^k}{k!}\n",
    "$$\n"
   ]
  },
  {
   "cell_type": "code",
   "execution_count": null,
   "metadata": {
    "id": "uh_dq3KkmcjC"
   },
   "outputs": [],
   "source": [
    "num = 200\n",
    "lam_unknown = 3.3 # nunca sabemos que parametro é esse\n",
    "num_exp = 10\n",
    "experiments =  [ \n",
    "    np.random.poisson(lam_unknown, num)\n",
    "    for i in range(num_exp)\n",
    "]"
   ]
  },
  {
   "cell_type": "code",
   "execution_count": null,
   "metadata": {
    "colab": {
     "base_uri": "https://localhost:8080/",
     "height": 266
    },
    "id": "8acKoOo_dXa-",
    "outputId": "07b85a2e-363c-4687-9da7-875b2b3444dd"
   },
   "outputs": [
    {
     "data": {
      "image/png": "[encoded data removed]",
      "text/plain": [
       "<Figure size 432x288 with 1 Axes>"
      ]
     },
     "metadata": {
      "needs_background": "light"
     },
     "output_type": "display_data"
    }
   ],
   "source": [
    "plt.hist(experiments[0], bins=100)\n",
    "plt.show()"
   ]
  },
  {
   "cell_type": "markdown",
   "metadata": {
    "id": "Sl3MlsQyeRjH"
   },
   "source": [
    "## Como recuperar o $\\lambda$?\n",
    "\n",
    "Só temos a intensidade da luz no sensor como a quantidade de fótons que chegou em um intervalo de tempo. **Como descobrir quão intensa era a fonte de luz? Isto é, como descobrir o valor de $\\lambda$*\n",
    "\n",
    "- Propomos uma distribuição que descreve os possíveis valores de $\\lambda$\n",
    "- Otimizamos essa para que se adeque melhor aos dados\n",
    "\n",
    "Isso pode ser feito usando o framework Bayesiano, que é a abordagem do RL!"
   ]
  },
  {
   "cell_type": "code",
   "execution_count": null,
   "metadata": {
    "id": "LjxUqdj5eGnh"
   },
   "outputs": [],
   "source": [
    "import pymc3 # biblioteca para estatística bayesiana em python"
   ]
  },
  {
   "cell_type": "code",
   "execution_count": null,
   "metadata": {
    "id": "vshNv_QCewRN"
   },
   "outputs": [],
   "source": [
    "\n",
    "\n",
    "def mh_exp(observation, alpha, beta, tune=500, draws=500):\n",
    "    \"\"\" \n",
    "\n",
    "    Notes:\n",
    "        tune parameter\n",
    "        https://discourse.pymc.io/t/what-is-tune-in-sampler/3256/4\n",
    "    \"\"\"\n",
    "    with pymc3.Model() as model:\n",
    "        lam = pymc3.Gamma('lambda', alpha=alpha, beta=beta)\n",
    "        y_obs = pymc3.Poisson('y_obs', mu=lam, observed=experiments[0])\n",
    "    with model:\n",
    "        trace = pymc3.sample(\n",
    "            tune=tune,\n",
    "            draws=draws,\n",
    "            chains=1,\n",
    "            cores=-1,\n",
    "            return_inferencedata=True\n",
    "        )\n",
    "    l = trace.posterior.data_vars[\"lambda\"].to_numpy()\n",
    "    l_m = l.mean()\n",
    "    l_std = l.std()\n",
    "    return l_m, l_std"
   ]
  },
  {
   "cell_type": "code",
   "execution_count": null,
   "metadata": {
    "colab": {
     "base_uri": "https://localhost:8080/"
    },
    "id": "agr3qKVHfwFH",
    "outputId": "5d718134-16fa-47a1-98ba-f57031691d3d"
   },
   "outputs": [
    {
     "name": "stderr",
     "output_type": "stream",
     "text": [
      "Auto-assigning NUTS sampler...\n",
      "Initializing NUTS using jitter+adapt_diag...\n",
      "Sequential sampling (1 chains in 1 job)\n",
      "NUTS: [lambda]\n"
     ]
    },
    {
     "data": {
      "text/html": [
       "\n",
       "<style>\n",
       "    /* Turns off some styling */\n",
       "    progress {\n",
       "        /* gets rid of default border in Firefox and Opera. */\n",
       "        border: none;\n",
       "        /* Needs to be in here for Safari polyfill so background images work as expected. */\n",
       "        background-size: auto;\n",
       "    }\n",
       "    .progress-bar-interrupted, .progress-bar-interrupted::-webkit-progress-bar {\n",
       "        background: #F44336;\n",
       "    }\n",
       "</style>\n"
      ],
      "text/plain": [
       "<IPython.core.display.HTML object>"
      ]
     },
     "metadata": {},
     "output_type": "display_data"
    },
    {
     "data": {
      "text/html": [
       "\n",
       "    <div>\n",
       "      <progress value='1000' class='' max='1000' style='width:300px; height:20px; vertical-align: middle;'></progress>\n",
       "      100.00% [1000/1000 00:00<00:00 Sampling chain 0, 0 divergences]\n",
       "    </div>\n",
       "    "
      ],
      "text/plain": [
       "<IPython.core.display.HTML object>"
      ]
     },
     "metadata": {},
     "output_type": "display_data"
    },
    {
     "name": "stderr",
     "output_type": "stream",
     "text": [
      "Sampling 1 chain for 500 tune and 500 draw iterations (500 + 500 draws total) took 1 seconds.\n",
      "Only one chain was sampled, this makes it impossible to run some convergence checks\n",
      "Auto-assigning NUTS sampler...\n",
      "Initializing NUTS using jitter+adapt_diag...\n",
      "Sequential sampling (1 chains in 1 job)\n",
      "NUTS: [lambda]\n"
     ]
    },
    {
     "data": {
      "text/html": [
       "\n",
       "<style>\n",
       "    /* Turns off some styling */\n",
       "    progress {\n",
       "        /* gets rid of default border in Firefox and Opera. */\n",
       "        border: none;\n",
       "        /* Needs to be in here for Safari polyfill so background images work as expected. */\n",
       "        background-size: auto;\n",
       "    }\n",
       "    .progress-bar-interrupted, .progress-bar-interrupted::-webkit-progress-bar {\n",
       "        background: #F44336;\n",
       "    }\n",
       "</style>\n"
      ],
      "text/plain": [
       "<IPython.core.display.HTML object>"
      ]
     },
     "metadata": {},
     "output_type": "display_data"
    },
    {
     "data": {
      "text/html": [
       "\n",
       "    <div>\n",
       "      <progress value='1000' class='' max='1000' style='width:300px; height:20px; vertical-align: middle;'></progress>\n",
       "      100.00% [1000/1000 00:00<00:00 Sampling chain 0, 0 divergences]\n",
       "    </div>\n",
       "    "
      ],
      "text/plain": [
       "<IPython.core.display.HTML object>"
      ]
     },
     "metadata": {},
     "output_type": "display_data"
    },
    {
     "name": "stderr",
     "output_type": "stream",
     "text": [
      "Sampling 1 chain for 500 tune and 500 draw iterations (500 + 500 draws total) took 1 seconds.\n",
      "Only one chain was sampled, this makes it impossible to run some convergence checks\n",
      "Auto-assigning NUTS sampler...\n",
      "Initializing NUTS using jitter+adapt_diag...\n",
      "Sequential sampling (1 chains in 1 job)\n",
      "NUTS: [lambda]\n"
     ]
    },
    {
     "data": {
      "text/html": [
       "\n",
       "<style>\n",
       "    /* Turns off some styling */\n",
       "    progress {\n",
       "        /* gets rid of default border in Firefox and Opera. */\n",
       "        border: none;\n",
       "        /* Needs to be in here for Safari polyfill so background images work as expected. */\n",
       "        background-size: auto;\n",
       "    }\n",
       "    .progress-bar-interrupted, .progress-bar-interrupted::-webkit-progress-bar {\n",
       "        background: #F44336;\n",
       "    }\n",
       "</style>\n"
      ],
      "text/plain": [
       "<IPython.core.display.HTML object>"
      ]
     },
     "metadata": {},
     "output_type": "display_data"
    },
    {
     "data": {
      "text/html": [
       "\n",
       "    <div>\n",
       "      <progress value='1000' class='' max='1000' style='width:300px; height:20px; vertical-align: middle;'></progress>\n",
       "      100.00% [1000/1000 00:00<00:00 Sampling chain 0, 0 divergences]\n",
       "    </div>\n",
       "    "
      ],
      "text/plain": [
       "<IPython.core.display.HTML object>"
      ]
     },
     "metadata": {},
     "output_type": "display_data"
    },
    {
     "name": "stderr",
     "output_type": "stream",
     "text": [
      "Sampling 1 chain for 500 tune and 500 draw iterations (500 + 500 draws total) took 1 seconds.\n",
      "Only one chain was sampled, this makes it impossible to run some convergence checks\n",
      "Auto-assigning NUTS sampler...\n",
      "Initializing NUTS using jitter+adapt_diag...\n",
      "Sequential sampling (1 chains in 1 job)\n",
      "NUTS: [lambda]\n"
     ]
    },
    {
     "data": {
      "text/html": [
       "\n",
       "<style>\n",
       "    /* Turns off some styling */\n",
       "    progress {\n",
       "        /* gets rid of default border in Firefox and Opera. */\n",
       "        border: none;\n",
       "        /* Needs to be in here for Safari polyfill so background images work as expected. */\n",
       "        background-size: auto;\n",
       "    }\n",
       "    .progress-bar-interrupted, .progress-bar-interrupted::-webkit-progress-bar {\n",
       "        background: #F44336;\n",
       "    }\n",
       "</style>\n"
      ],
      "text/plain": [
       "<IPython.core.display.HTML object>"
      ]
     },
     "metadata": {},
     "output_type": "display_data"
    },
    {
     "data": {
      "text/html": [
       "\n",
       "    <div>\n",
       "      <progress value='1000' class='' max='1000' style='width:300px; height:20px; vertical-align: middle;'></progress>\n",
       "      100.00% [1000/1000 00:00<00:00 Sampling chain 0, 0 divergences]\n",
       "    </div>\n",
       "    "
      ],
      "text/plain": [
       "<IPython.core.display.HTML object>"
      ]
     },
     "metadata": {},
     "output_type": "display_data"
    },
    {
     "name": "stderr",
     "output_type": "stream",
     "text": [
      "Sampling 1 chain for 500 tune and 500 draw iterations (500 + 500 draws total) took 1 seconds.\n",
      "Only one chain was sampled, this makes it impossible to run some convergence checks\n",
      "Auto-assigning NUTS sampler...\n",
      "Initializing NUTS using jitter+adapt_diag...\n",
      "Sequential sampling (1 chains in 1 job)\n",
      "NUTS: [lambda]\n"
     ]
    },
    {
     "data": {
      "text/html": [
       "\n",
       "<style>\n",
       "    /* Turns off some styling */\n",
       "    progress {\n",
       "        /* gets rid of default border in Firefox and Opera. */\n",
       "        border: none;\n",
       "        /* Needs to be in here for Safari polyfill so background images work as expected. */\n",
       "        background-size: auto;\n",
       "    }\n",
       "    .progress-bar-interrupted, .progress-bar-interrupted::-webkit-progress-bar {\n",
       "        background: #F44336;\n",
       "    }\n",
       "</style>\n"
      ],
      "text/plain": [
       "<IPython.core.display.HTML object>"
      ]
     },
     "metadata": {},
     "output_type": "display_data"
    },
    {
     "data": {
      "text/html": [
       "\n",
       "    <div>\n",
       "      <progress value='1000' class='' max='1000' style='width:300px; height:20px; vertical-align: middle;'></progress>\n",
       "      100.00% [1000/1000 00:00<00:00 Sampling chain 0, 0 divergences]\n",
       "    </div>\n",
       "    "
      ],
      "text/plain": [
       "<IPython.core.display.HTML object>"
      ]
     },
     "metadata": {},
     "output_type": "display_data"
    },
    {
     "name": "stderr",
     "output_type": "stream",
     "text": [
      "Sampling 1 chain for 500 tune and 500 draw iterations (500 + 500 draws total) took 1 seconds.\n",
      "Only one chain was sampled, this makes it impossible to run some convergence checks\n",
      "Auto-assigning NUTS sampler...\n",
      "Initializing NUTS using jitter+adapt_diag...\n",
      "Sequential sampling (1 chains in 1 job)\n",
      "NUTS: [lambda]\n"
     ]
    },
    {
     "data": {
      "text/html": [
       "\n",
       "<style>\n",
       "    /* Turns off some styling */\n",
       "    progress {\n",
       "        /* gets rid of default border in Firefox and Opera. */\n",
       "        border: none;\n",
       "        /* Needs to be in here for Safari polyfill so background images work as expected. */\n",
       "        background-size: auto;\n",
       "    }\n",
       "    .progress-bar-interrupted, .progress-bar-interrupted::-webkit-progress-bar {\n",
       "        background: #F44336;\n",
       "    }\n",
       "</style>\n"
      ],
      "text/plain": [
       "<IPython.core.display.HTML object>"
      ]
     },
     "metadata": {},
     "output_type": "display_data"
    },
    {
     "data": {
      "text/html": [
       "\n",
       "    <div>\n",
       "      <progress value='1000' class='' max='1000' style='width:300px; height:20px; vertical-align: middle;'></progress>\n",
       "      100.00% [1000/1000 00:00<00:00 Sampling chain 0, 0 divergences]\n",
       "    </div>\n",
       "    "
      ],
      "text/plain": [
       "<IPython.core.display.HTML object>"
      ]
     },
     "metadata": {},
     "output_type": "display_data"
    },
    {
     "name": "stderr",
     "output_type": "stream",
     "text": [
      "Sampling 1 chain for 500 tune and 500 draw iterations (500 + 500 draws total) took 1 seconds.\n",
      "Only one chain was sampled, this makes it impossible to run some convergence checks\n",
      "Auto-assigning NUTS sampler...\n",
      "Initializing NUTS using jitter+adapt_diag...\n",
      "Sequential sampling (1 chains in 1 job)\n",
      "NUTS: [lambda]\n"
     ]
    },
    {
     "data": {
      "text/html": [
       "\n",
       "<style>\n",
       "    /* Turns off some styling */\n",
       "    progress {\n",
       "        /* gets rid of default border in Firefox and Opera. */\n",
       "        border: none;\n",
       "        /* Needs to be in here for Safari polyfill so background images work as expected. */\n",
       "        background-size: auto;\n",
       "    }\n",
       "    .progress-bar-interrupted, .progress-bar-interrupted::-webkit-progress-bar {\n",
       "        background: #F44336;\n",
       "    }\n",
       "</style>\n"
      ],
      "text/plain": [
       "<IPython.core.display.HTML object>"
      ]
     },
     "metadata": {},
     "output_type": "display_data"
    },
    {
     "data": {
      "text/html": [
       "\n",
       "    <div>\n",
       "      <progress value='1000' class='' max='1000' style='width:300px; height:20px; vertical-align: middle;'></progress>\n",
       "      100.00% [1000/1000 00:00<00:00 Sampling chain 0, 0 divergences]\n",
       "    </div>\n",
       "    "
      ],
      "text/plain": [
       "<IPython.core.display.HTML object>"
      ]
     },
     "metadata": {},
     "output_type": "display_data"
    },
    {
     "name": "stderr",
     "output_type": "stream",
     "text": [
      "Sampling 1 chain for 500 tune and 500 draw iterations (500 + 500 draws total) took 1 seconds.\n",
      "Only one chain was sampled, this makes it impossible to run some convergence checks\n",
      "Auto-assigning NUTS sampler...\n",
      "Initializing NUTS using jitter+adapt_diag...\n",
      "Sequential sampling (1 chains in 1 job)\n",
      "NUTS: [lambda]\n"
     ]
    },
    {
     "data": {
      "text/html": [
       "\n",
       "<style>\n",
       "    /* Turns off some styling */\n",
       "    progress {\n",
       "        /* gets rid of default border in Firefox and Opera. */\n",
       "        border: none;\n",
       "        /* Needs to be in here for Safari polyfill so background images work as expected. */\n",
       "        background-size: auto;\n",
       "    }\n",
       "    .progress-bar-interrupted, .progress-bar-interrupted::-webkit-progress-bar {\n",
       "        background: #F44336;\n",
       "    }\n",
       "</style>\n"
      ],
      "text/plain": [
       "<IPython.core.display.HTML object>"
      ]
     },
     "metadata": {},
     "output_type": "display_data"
    },
    {
     "data": {
      "text/html": [
       "\n",
       "    <div>\n",
       "      <progress value='1000' class='' max='1000' style='width:300px; height:20px; vertical-align: middle;'></progress>\n",
       "      100.00% [1000/1000 00:00<00:00 Sampling chain 0, 0 divergences]\n",
       "    </div>\n",
       "    "
      ],
      "text/plain": [
       "<IPython.core.display.HTML object>"
      ]
     },
     "metadata": {},
     "output_type": "display_data"
    },
    {
     "name": "stderr",
     "output_type": "stream",
     "text": [
      "Sampling 1 chain for 500 tune and 500 draw iterations (500 + 500 draws total) took 1 seconds.\n",
      "Only one chain was sampled, this makes it impossible to run some convergence checks\n",
      "Auto-assigning NUTS sampler...\n",
      "Initializing NUTS using jitter+adapt_diag...\n",
      "Sequential sampling (1 chains in 1 job)\n",
      "NUTS: [lambda]\n"
     ]
    },
    {
     "data": {
      "text/html": [
       "\n",
       "<style>\n",
       "    /* Turns off some styling */\n",
       "    progress {\n",
       "        /* gets rid of default border in Firefox and Opera. */\n",
       "        border: none;\n",
       "        /* Needs to be in here for Safari polyfill so background images work as expected. */\n",
       "        background-size: auto;\n",
       "    }\n",
       "    .progress-bar-interrupted, .progress-bar-interrupted::-webkit-progress-bar {\n",
       "        background: #F44336;\n",
       "    }\n",
       "</style>\n"
      ],
      "text/plain": [
       "<IPython.core.display.HTML object>"
      ]
     },
     "metadata": {},
     "output_type": "display_data"
    },
    {
     "data": {
      "text/html": [
       "\n",
       "    <div>\n",
       "      <progress value='1000' class='' max='1000' style='width:300px; height:20px; vertical-align: middle;'></progress>\n",
       "      100.00% [1000/1000 00:00<00:00 Sampling chain 0, 0 divergences]\n",
       "    </div>\n",
       "    "
      ],
      "text/plain": [
       "<IPython.core.display.HTML object>"
      ]
     },
     "metadata": {},
     "output_type": "display_data"
    },
    {
     "name": "stderr",
     "output_type": "stream",
     "text": [
      "Sampling 1 chain for 500 tune and 500 draw iterations (500 + 500 draws total) took 1 seconds.\n",
      "Only one chain was sampled, this makes it impossible to run some convergence checks\n",
      "Auto-assigning NUTS sampler...\n",
      "Initializing NUTS using jitter+adapt_diag...\n",
      "Sequential sampling (1 chains in 1 job)\n",
      "NUTS: [lambda]\n"
     ]
    },
    {
     "data": {
      "text/html": [
       "\n",
       "<style>\n",
       "    /* Turns off some styling */\n",
       "    progress {\n",
       "        /* gets rid of default border in Firefox and Opera. */\n",
       "        border: none;\n",
       "        /* Needs to be in here for Safari polyfill so background images work as expected. */\n",
       "        background-size: auto;\n",
       "    }\n",
       "    .progress-bar-interrupted, .progress-bar-interrupted::-webkit-progress-bar {\n",
       "        background: #F44336;\n",
       "    }\n",
       "</style>\n"
      ],
      "text/plain": [
       "<IPython.core.display.HTML object>"
      ]
     },
     "metadata": {},
     "output_type": "display_data"
    },
    {
     "data": {
      "text/html": [
       "\n",
       "    <div>\n",
       "      <progress value='1000' class='' max='1000' style='width:300px; height:20px; vertical-align: middle;'></progress>\n",
       "      100.00% [1000/1000 00:00<00:00 Sampling chain 0, 0 divergences]\n",
       "    </div>\n",
       "    "
      ],
      "text/plain": [
       "<IPython.core.display.HTML object>"
      ]
     },
     "metadata": {},
     "output_type": "display_data"
    },
    {
     "name": "stderr",
     "output_type": "stream",
     "text": [
      "Sampling 1 chain for 500 tune and 500 draw iterations (500 + 500 draws total) took 1 seconds.\n",
      "The acceptance probability does not match the target. It is 0.8894207958900737, but should be close to 0.8. Try to increase the number of tuning steps.\n",
      "Only one chain was sampled, this makes it impossible to run some convergence checks\n"
     ]
    }
   ],
   "source": [
    "alpha, beta = 3, 1\n",
    "results = np.array([\n",
    "    mh_exp(observation, alpha, beta)\n",
    "    for observation in experiments\n",
    "])\n"
   ]
  },
  {
   "cell_type": "code",
   "execution_count": null,
   "metadata": {
    "colab": {
     "base_uri": "https://localhost:8080/"
    },
    "id": "Ag3hOQdPhIAF",
    "outputId": "226b7f85-cd36-4547-db40-3711ab40695f"
   },
   "outputs": [
    {
     "data": {
      "image/png": "[encoded data removed]",
      "text/plain": [
       "<Figure size 432x288 with 1 Axes>"
      ]
     },
     "metadata": {
      "needs_background": "light"
     },
     "output_type": "display_data"
    }
   ],
   "source": [
    "plt.axhline(lam_unknown, c=\"red\", label=\"original\")\n",
    "\n",
    "plt.errorbar(range(num_exp), results[:,0], results[:,1], linestyle='None', marker='^', label=\"estimado\")\n",
    "plt.legend()\n",
    "plt.show()"
   ]
  },
  {
   "cell_type": "markdown",
   "metadata": {
    "id": "RVlwMptsnAPb"
   },
   "source": [
    "O resultado acima mostra que conseguimos estimar bem o $\\lambda$ original. "
   ]
  },
  {
   "cell_type": "markdown",
   "metadata": {
    "id": "gTOYolECp9wS"
   },
   "source": [
    "##  O que é uma imagem?\n",
    "\n",
    "Suponha uma imagem em preto e branco de tamanho $M\\times N$, seja $I$ a intensidade, tal que  $I(x, y)$ é a intensidade no pixel na posição $(x, y).\n",
    "\n",
    "No exemplo anterior utilizamos várias observações, cada uma com uma quantidade razoável de valores representando quantos fótons chegaram no sensor em um intervalo de tempo. \n",
    "\n",
    "### Como aplicar abordagem bayesiana?\n",
    "\n",
    "**Mas numa imagem para cada pixel só temos UM valor! Como aplicar o framework bayesiano nesse caso?**\n",
    "\n",
    "Assumimos que:\n",
    "\n",
    "- A intensidade de cada pixel é independente dos demais\n",
    "- Podemo modelar também usando uma distribuição de Poisson\n",
    "\n",
    "Consequências:\n",
    "\n",
    "- A probabilidade de observar a imagem é o produto das probabilidades de observar cada pixel individualmente\n",
    "- A probabilidade conjunta é dada por\n",
    "\n",
    "$$\n",
    "\\prod_{\\mathrm{pixel}}e^{-\\lambda_\\mathrm{pixel}}\\frac{\\lambda_{\\mathrm{pixel}}^{I(\\mathrm{pixel})}}{I(\\mathrm{pixel})!}\n",
    "$$\n",
    "\n",
    "\n",
    "**Mas o que seria o $\\lambda$?**\n",
    "\n",
    "Anteriormente, o $\\lambda$ era relacionado ao processo físico, e o I, representava a contagem do sensor. E conseguimos estimar o $\\lambda$ com boa acurácia. A ideia do $RL$ agora é pensar o $\\lambda$ como relacionado a nossa *imagem original* que queremos estimar. Note que coloquei entre aspas pq se você prestou atenção nos textos anteriores **$\\lambda$ são valores reais e não inteiros! Isso tem relação com o algoritmo que você vai implementar.**\n",
    "\n",
    "Como disse **cada pixel só tem apenas um valor, o que implica que seria muito estranho usar estatistica nisso**. A ideia do RL é que devido a PSF todos os pixels estão interagindo pq o PSF mistura pixels da imagem original, então na verdade temos\n",
    "\n",
    "$$\n",
    "\\lambda_i(R_1, \\dots, R_j,\\dots, R_{N\\times M}) = \\sum_j PSF_{i,j}R_j\n",
    "$$\n",
    "onde R é nossa imagem original.\n",
    "\n",
    "**O ponto importante então é que nosso $\\lambda_i$ é função de todos as outras intensidades de pixel que queremos estimar, $R_j$**\n",
    "\n",
    "\n",
    "Podemo então expressar nossa distribuição de probabilidade por\n",
    "$$\n",
    "\\prod_{i}e^{-\\sum_j PSF_{i,j} R_{j}}\n",
    "\\frac{\n",
    "    (-\\sum_j PSF_{i,j} R_{j})^{I_i}}{I_i!}\n",
    "$$\n",
    "\n",
    "Poderíamos usar a mesma abordagem feita anteriormente para estimar os $R_i$ usando o pymc3, mas quais seriam os problemas?\n",
    "\n",
    "1. Teríamos que estimar $N\\times M$ parâmetros, mesmo para apenas um parâmetro o pymc demorou um tempo considerável\n",
    "2. No código anterior partimos da proposição de uma distribuição de probabilidade (prior), no caso a Gamma, qual seria a distribuição que usuáriamos nesse exemplo com $N\\times M$? Eu não sei. \n",
    "\n",
    "\n",
    "Como resolver então?\n",
    "\n",
    "A idea de RL é aplicar o logarítmo na expressão acima e encontrar os valores de $R_i$ que maximizam esse logarítmo. **Pois os valores que maximizam o logarítmo são iguais aos $R_i$ que seriam estimados.**\n",
    "\n",
    "Então começamos tomando lo logarítimo da expresão e obtemos o seguinte\n",
    "$$\n",
    "\\sum_{i}\\left[I_i\\ln(\\sum_j PSF_{i,j} R_{j}) - \\sum_j(PSF_{i,j}R_j)\n",
    "    - \\ln(I_i!)\\right]\n",
    "$$\n",
    "\n",
    "\n",
    "Lembre que estamos em um problema de estimação, mas não há nada para ser estimado em $\\ln(I_i!)$ então podemos jogar fora. Ficamos com\n",
    "\n",
    "\n",
    "$$\n",
    "\\alpha(I|R_1,\\dots,R_{N\\times M}) = \\sum_{i}\\left[I_i\\ln(\\sum_j PSF_{i,j} R_{j}) - \\sum_j(PSF_{i,j}R_j)\\right]\n",
    "$$\n",
    "\n",
    "Nas aulas de cálculo você aprendeu sobre o gradiente como o operador que aponta para o sentido de crescimento da função. A ideia aqui é a mesma, por isso vamos iterar sobre \n",
    "\n",
    "$$\n",
    "R_{new} = R_{old} + \n",
    "\\epsilon \\frac{\\partial \\alpha(I|R_1,\\dots,R_{N\\times M})}{\\partial R}|_{R_{old}}\n",
    "$$\n",
    "\n",
    "Daqui a pouco falaremos do $\\epsilon$  e do primeiro $R_{old}$, mas agora vamos calcular primeiro o gradiente"
   ]
  },
  {
   "cell_type": "markdown",
   "metadata": {
    "id": "1ogqe3uVBlvi"
   },
   "source": [
    "## Cálculo do gradiente\n",
    "\n",
    "É mais fácil entender a derivação da formula calculando para cada componente separadamente, então faremos para a componente $R_k$. \n",
    "\n",
    "$$\n",
    "\\sum_i \\frac{I_i}{\\lambda_i}\\frac{∂ \\lambda_i}{\\partial R_k} -\\sum_i\\sum_j PSF_{i,j}\\frac{\\partial R_j}{∂R_k}\n",
    "$$\n",
    "\n",
    "\n",
    "O Segundo termo do lado direito fica\n",
    "$$\n",
    "\\sum_i\\sum_j PSF_{i,j}\\frac{\\partial R_j}{∂R_k} = \\sum_i PSF_{i,k}\n",
    "$$\n",
    "\n",
    "Enquanto no primeiro termo temos\n",
    "\n",
    "$$\n",
    "\\sum_i \\frac{I_i}{\\lambda_i}\\frac{∂ \\lambda_i}{\\partial R_k} =\n",
    "\\sum_i\\frac{I_i}{\\lambda_i}PSF_{i, k}\n",
    "$$\n",
    "\n",
    "Juntando, no final temos a seguinte expressão para a $k$ componente do gradiente\n",
    "\n",
    "$$\n",
    "\\sum_i PSF_{i, k}\\left(\n",
    "\\frac{I_i}{\\lambda_i} -1    \n",
    "\\right)\n",
    "$$\n",
    "\n",
    "que em forma matricial é\n",
    "$$\n",
    "PSF\\left[\n",
    "\\frac{I}{\\Lambda} -\\mathbf{1}    \n",
    "\\right]\n",
    "$$\n",
    "\n"
   ]
  },
  {
   "cell_type": "markdown",
   "metadata": {
    "id": "Qkac3-H9fSAn"
   },
   "source": [
    "Substituindo a expressão acima na equação iterativa temos\n",
    "\n",
    "$$\n",
    "R_{new} = R_{old} + \\epsilon PSF\\left[\\frac{I}{\\Lambda} - \\mathbf 1\\right]\n",
    "$$\n",
    "\n",
    "O valor que podemos estipular para $\\epsilon$ é arbitrário, mas comumente esse valor é definido através da seguinte expressão\n",
    "\n",
    "$$\n",
    "\\epsilon = \\frac{R_{old}}{PSF\\mathbf 1}\n",
    "$$\n",
    "\n",
    "Substituindo esse $\\epsilon$ na equação iterativa temos\n",
    "\n",
    "$$\n",
    "R_{new} = R_{old} \n",
    "+  \\frac{R_{old}}{PSF\\mathbf 1} PSF\\frac{I}{\\Lambda} \n",
    "- \\frac{R_{old}PSF \\mathbf 1}{PSF\\mathbf 1}\n",
    "$$\n",
    "\n",
    "\n",
    "$$\n",
    "R_{new} = R_{old} \n",
    "+  \\frac{R_{old}}{PSF\\mathbf 1} PSF\\frac{I}{\\Lambda} \n",
    "- R_{old}\n",
    "$$\n",
    "\n",
    "Os $R_{old}$ isolados podem ser cancelados ficamos então com\n",
    "\n",
    "\n",
    "$$\n",
    "R_{new} = \n",
    "\\frac{R_{old}}{PSF\\mathbf 1} PSF\\frac{I}{\\Lambda} \n",
    "$$\n",
    "\n",
    "Tudo parece ok, agora só precisamos saber como incializar o algoritmo. Para isso precisamos definir antes o $\\Lambda$, que será dado por\n",
    "\n",
    "$$\n",
    "\\Lambda = R_{old} PSF \n",
    "$$\n",
    "\n",
    "Portanto, resta definir agora somente o primeiro $R_{old}$ , uma possível escolha é \n",
    "\n",
    "```python\n",
    "R_old = np.full(shape = I.shape, fill_value = 1, dtype = \"float64\")\n",
    "```"
   ]
  },
  {
   "cell_type": "markdown",
   "metadata": {
    "id": "P280LkPskfib"
   },
   "source": [
    "Você pode ter uma compreensão melhor sobre como é a convergência do algorítimo usando o autograd do jax como descrito no código abaixo"
   ]
  },
  {
   "cell_type": "code",
   "execution_count": 178,
   "metadata": {
    "id": "nR4sczWtqNUH"
   },
   "outputs": [],
   "source": [
    "import jax.numpy as jnp\n",
    "from jax import grad, jit, vmap\n",
    "from jax import random\n",
    "import numpy as np\n",
    "\n"
   ]
  },
  {
   "cell_type": "code",
   "execution_count": 179,
   "metadata": {
    "id": "ehdmPkklhywa"
   },
   "outputs": [],
   "source": [
    "def log_func(I, PSF, R_0):\n",
    "    prod = PSF*R_0\n",
    "    sum_r = jnp.sum(prod, axis=1)\n",
    "    ln_result = jnp.sum(I*jnp.log(sum_r) -sum_r)\n",
    "\n",
    "    return ln_result\n",
    "grad_log = grad(log_func)"
   ]
  },
  {
   "cell_type": "code",
   "execution_count": 172,
   "metadata": {
    "id": "dSInPnofVGXS"
   },
   "outputs": [],
   "source": [
    "PSF = jnp.array([\n",
    "    [0.5,  0.3],\n",
    "    [0.2, 0.5]\n",
    "])\n",
    "size = 4\n",
    "lambdas = jnp.array(np.random.uniform(2, 3.4, size=size))\n"
   ]
  },
  {
   "cell_type": "code",
   "execution_count": 173,
   "metadata": {
    "id": "95A97GgjYRQB"
   },
   "outputs": [],
   "source": [
    "\n",
    "poisson_values = jnp.array([\n",
    "    np.random.poisson(lam)\n",
    "    for lam in lambdas\n",
    "]).reshape((-1, 1))"
   ]
  },
  {
   "cell_type": "code",
   "execution_count": 174,
   "metadata": {
    "id": "FwJymtcoZOLz"
   },
   "outputs": [],
   "source": [
    "PSF = jnp.array(np.random.uniform(0.1, 1, size=(size, size)))\n"
   ]
  },
  {
   "cell_type": "code",
   "execution_count": 175,
   "metadata": {
    "id": "7UAEcLW6Zo3m"
   },
   "outputs": [],
   "source": [
    "intensity_observed = jnp.sum(poisson_values*PSF.T, axis=1).reshape((-1, 1))"
   ]
  },
  {
   "cell_type": "code",
   "execution_count": 176,
   "metadata": {
    "id": "wvINk7UsVsfF"
   },
   "outputs": [],
   "source": [
    "R0 = intensity_observed + jnp.array(np.random.uniform(size=size)/10).reshape((-1, 1))"
   ]
  },
  {
   "cell_type": "markdown",
   "metadata": {
    "id": "GGaVdXZKYh_k"
   },
   "source": []
  },
  {
   "cell_type": "code",
   "execution_count": 77,
   "metadata": {
    "colab": {
     "base_uri": "https://localhost:8080/"
    },
    "id": "xqgATHraZFFA",
    "outputId": "b9cb1cdc-c170-4eb8-ab86-dc05cdd51015"
   },
   "outputs": [
    {
     "data": {
      "text/plain": [
       "DeviceArray([[3.6246512],\n",
       "             [0.5241828],\n",
       "             [1.3727397],\n",
       "             [3.981409 ]], dtype=float32)"
      ]
     },
     "execution_count": 77,
     "metadata": {},
     "output_type": "execute_result"
    }
   ],
   "source": [
    "for i in range(num_iter):\n",
    "    x0 = x0 - eps*grad_ln(x0, R0 ,PSF)"
   ]
  },
  {
   "cell_type": "markdown",
   "metadata": {
    "id": "ID58s9k7ku5Z"
   },
   "source": [
    "As duas coisas importantes que podemos entender disso é \n",
    "\n",
    "1. Como estamos aplicando uma otimização em funções logarítimicas zeros e número negativos levam a inconsistências. Você precisa tratar isso.\n",
    "2. O algorítimo evolui para pontos fora dos valores iniciais. Você precisará fazer um clip para contornar isso após obter a solução. Como dito no notebook 4."
   ]
  }
 ],
 "metadata": {
  "colab": {
   "collapsed_sections": [],
   "name": "rl aula.ipynb",
   "provenance": []
  },
  "kernelspec": {
   "display_name": "Python 3 (ipykernel)",
   "language": "python",
   "name": "python3"
  },
  "language_info": {
   "codemirror_mode": {
    "name": "ipython",
    "version": 3
   },
   "file_extension": ".py",
   "mimetype": "text/x-python",
   "name": "python",
   "nbconvert_exporter": "python",
   "pygments_lexer": "ipython3",
   "version": "3.10.4"
  }
 },
 "nbformat": 4,
 "nbformat_minor": 1
}
